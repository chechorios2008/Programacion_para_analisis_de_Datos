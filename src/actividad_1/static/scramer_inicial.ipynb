{
 "cells": [
  {
   "cell_type": "code",
   "execution_count": null,
   "metadata": {},
   "outputs": [],
   "source": [
    "from selenium import webdriver\n",
    "from selenium.webdriver.common.by import By\n",
    "from selenium.webdriver.common.action_chains import ActionChains\n",
    "from selenium.webdriver.support.ui import WebDriverWait\n",
    "from selenium.webdriver.support import expected_conditions as EC\n",
    "from selenium.common.exceptions import NoSuchElementException, TimeoutException\n",
    "import pandas as pd"
   ]
  },
  {
   "cell_type": "code",
   "execution_count": null,
   "metadata": {},
   "outputs": [],
   "source": [
    "\n",
    "\n",
    "# Configurar el navegador\n",
    "driver = webdriver.Chrome()\n",
    "\n",
    "# URL base\n",
    "base_url = 'https://www.alkosto.com/celulares/smartphones/c/BI_101_ALKOS?page={}&sort=relevance'\n",
    "\n",
    "data = []\n",
    "\n",
    "# Iterar por las 14 páginas\n",
    "for page in range(1, 15):  # Páginas de 1 a 14\n",
    "    url = base_url.format(page)\n",
    "    print(f\"Accediendo a: {url}\")\n",
    "    driver.get(url)\n",
    "\n",
    "    try:\n",
    "        # Esperar a que los productos se carguen\n",
    "        WebDriverWait(driver, 10).until(\n",
    "            EC.presence_of_all_elements_located((By.CSS_SELECTOR, '#js-hits li'))\n",
    "        )\n",
    "    except TimeoutException:\n",
    "        print(f\"Los productos no se cargaron en la página {page}. Saltando...\")\n",
    "        continue\n",
    "\n",
    "    # Obtener los elementos de la página actual\n",
    "    li_elements = driver.find_elements(By.CSS_SELECTOR, '#js-hits li')\n",
    "\n",
    "    for element in li_elements:\n",
    "        try:\n",
    "            # Ajustar los selectores según la estructura del sitio\n",
    "            titulo_element = element.find_element(By.TAG_NAME, 'h3')\n",
    "            precio_element = element.find_element(By.CLASS_NAME, 'price')  # Revisa este selector\n",
    "            marca_element = element.find_element(By.CLASS_NAME, 'product__item__information__brand')\n",
    "\n",
    "            # Agregar los datos al listado\n",
    "            data.append({\n",
    "                'categoria': 'Smartphone',\n",
    "                'marca': marca_element.text.strip(),\n",
    "                'nombre_producto': titulo_element.text.strip(),\n",
    "                'precio': precio_element.text.strip()\n",
    "            })\n",
    "        except NoSuchElementException:\n",
    "            print(f\"Elemento faltante en la página {page}. Saltando...\")\n",
    "        except Exception as e:\n",
    "            print(f\"Error desconocido en la página {page}: {e}\")\n",
    "\n",
    "# Cerrar el navegador\n",
    "driver.quit()\n",
    "\n",
    "# Convertir los datos a un DataFrame\n",
    "df = pd.DataFrame(data)\n",
    "\n",
    "# Mostrar las primeras filas y guardar en un archivo\n",
    "print(df.head(10))\n",
    "#df.to_csv('productos_alkosto.csv', index=False)\n"
   ]
  },
  {
   "cell_type": "code",
   "execution_count": null,
   "metadata": {},
   "outputs": [],
   "source": [
    "df"
   ]
  }
 ],
 "metadata": {
  "kernelspec": {
   "display_name": "venv",
   "language": "python",
   "name": "python3"
  },
  "language_info": {
   "codemirror_mode": {
    "name": "ipython",
    "version": 3
   },
   "file_extension": ".py",
   "mimetype": "text/x-python",
   "name": "python",
   "nbconvert_exporter": "python",
   "pygments_lexer": "ipython3",
   "version": "3.11.2"
  }
 },
 "nbformat": 4,
 "nbformat_minor": 2
}
